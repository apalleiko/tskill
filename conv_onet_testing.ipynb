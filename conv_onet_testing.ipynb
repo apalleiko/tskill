{
 "cells": [
  {
   "cell_type": "code",
   "execution_count": 2,
   "metadata": {},
   "outputs": [],
   "source": [
    "import numpy as np\n",
    "import torch.nn as nn\n",
    "import torch.nn.functional as F\n",
    "import torch\n",
    "from policy import config\n",
    "\n",
    "cfg = config.load_config(\"assets/perception/conv_onet_test.yaml\")\n",
    "\n",
    "# model\n",
    "model = config.get_model(cfg)\n",
    "# load test data\n",
    "# data = np.load(\"test_data.npz\")\n",
    "\n",
    "# cam1 = torch.unsqueeze(torch.from_numpy(data[\"cam1\"]), 0)\n",
    "\n",
    "# print(cam1_rgb.shape)\n",
    "\n",
    "# model.forward(cam1)"
   ]
  },
  {
   "cell_type": "code",
   "execution_count": 4,
   "metadata": {},
   "outputs": [
    {
     "name": "stdout",
     "output_type": "stream",
     "text": [
      "Computing max sequence length...\n"
     ]
    },
    {
     "name": "stderr",
     "output_type": "stream",
     "text": [
      "100%|██████████| 10/10 [00:01<00:00,  6.49it/s]\n"
     ]
    },
    {
     "name": "stdout",
     "output_type": "stream",
     "text": [
      "Max sequence length found to be:  198\n",
      "Collecting all observations...\n"
     ]
    },
    {
     "name": "stderr",
     "output_type": "stream",
     "text": [
      "100%|██████████| 10/10 [00:01<00:00,  5.75it/s]\n"
     ]
    },
    {
     "name": "stdout",
     "output_type": "stream",
     "text": [
      "Shuffling: True\n",
      "<torch.utils.data.dataloader.DataLoader object at 0x162fb64d0>\n"
     ]
    },
    {
     "name": "stderr",
     "output_type": "stream",
     "text": [
      "152it [00:08, 18.16it/s]\n"
     ]
    },
    {
     "ename": "TypeError",
     "evalue": "unhashable type: 'slice'",
     "output_type": "error",
     "traceback": [
      "\u001b[0;31m---------------------------------------------------------------------------\u001b[0m",
      "\u001b[0;31mTypeError\u001b[0m                                 Traceback (most recent call last)",
      "Cell \u001b[0;32mIn[4], line 6\u001b[0m\n\u001b[1;32m      3\u001b[0m test_loader, val_loader \u001b[38;5;241m=\u001b[39m get_MS_loaders(cfg)\n\u001b[1;32m      5\u001b[0m \u001b[38;5;28mprint\u001b[39m(test_loader)\n\u001b[0;32m----> 6\u001b[0m \u001b[43mmodel\u001b[49m\u001b[38;5;241;43m.\u001b[39;49m\u001b[43mforward\u001b[49m\u001b[43m(\u001b[49m\u001b[43mtest_loader\u001b[49m\u001b[38;5;241;43m.\u001b[39;49m\u001b[43mdataset\u001b[49m\u001b[43m[\u001b[49m\u001b[38;5;241;43m0\u001b[39;49m\u001b[43m]\u001b[49m\u001b[43m)\u001b[49m\n",
      "File \u001b[0;32m~/Desktop/UROP/Pele/tskill/policy/perception/conv_onet/model.py:41\u001b[0m, in \u001b[0;36mConvolutionalOccupancyNetwork.forward\u001b[0;34m(self, input, sample, **kwargs)\u001b[0m\n\u001b[1;32m     35\u001b[0m \u001b[38;5;66;03m# if input.shape != [1, any, 6]:\u001b[39;00m\n\u001b[1;32m     36\u001b[0m     \u001b[38;5;66;03m# print(input.shape)\u001b[39;00m\n\u001b[1;32m     37\u001b[0m     \u001b[38;5;66;03m# raise ValueError(\"Input tensor has wrong dimensions\")\u001b[39;00m\n\u001b[1;32m     40\u001b[0m obs \u001b[38;5;241m=\u001b[39m \u001b[38;5;28minput\u001b[39m\n\u001b[0;32m---> 41\u001b[0m pcd \u001b[38;5;241m=\u001b[39m \u001b[38;5;28;43minput\u001b[39;49m\u001b[43m[\u001b[49m\u001b[43m:\u001b[49m\u001b[43m,\u001b[49m\u001b[43m \u001b[49m\u001b[43m:\u001b[49m\u001b[43m,\u001b[49m\u001b[43m \u001b[49m\u001b[38;5;241;43m0\u001b[39;49m\u001b[43m:\u001b[49m\u001b[38;5;241;43m3\u001b[39;49m\u001b[43m]\u001b[49m\n\u001b[1;32m     43\u001b[0m c \u001b[38;5;241m=\u001b[39m \u001b[38;5;28mself\u001b[39m\u001b[38;5;241m.\u001b[39mencode_inputs(obs)\n\u001b[1;32m     44\u001b[0m p_r \u001b[38;5;241m=\u001b[39m \u001b[38;5;28mself\u001b[39m\u001b[38;5;241m.\u001b[39mdecode(pcd, c, \u001b[38;5;241m*\u001b[39m\u001b[38;5;241m*\u001b[39mkwargs)\n",
      "\u001b[0;31mTypeError\u001b[0m: unhashable type: 'slice'"
     ]
    }
   ],
   "source": [
    "# test data loader\n",
    "from policy.dataset.ms2CONet import get_MS_loaders\n",
    "test_loader, val_loader = get_MS_loaders(cfg)"
   ]
  },
  {
   "cell_type": "code",
   "execution_count": 6,
   "metadata": {},
   "outputs": [
    {
     "name": "stderr",
     "output_type": "stream",
     "text": [
      "152it [00:08, 18.02it/s]\n"
     ]
    },
    {
     "name": "stdout",
     "output_type": "stream",
     "text": [
      "{'rgbd': tensor([[[[-0.0000, -0.0000,  0.0000,  0.0000,  0.0000,  0.0000],\n",
      "          [-0.0000, -0.0000,  0.0000,  0.0000,  0.0000,  0.0000],\n",
      "          [-0.0000, -0.0000,  0.0000,  0.0000,  0.0000,  0.0000],\n",
      "          ...,\n",
      "          [ 0.1556,  0.1507,  0.1582,  0.2784,  0.3098,  0.3608],\n",
      "          [ 0.1556,  0.1531,  0.1582,  0.2784,  0.3098,  0.3608],\n",
      "          [ 0.1556,  0.1556,  0.1582,  0.2784,  0.3098,  0.3608]],\n",
      "\n",
      "         [[-0.2488, -0.2488,  0.2490,  0.2784,  0.3098,  0.3647],\n",
      "          [-0.2488, -0.2449,  0.2490,  0.2784,  0.3098,  0.3647],\n",
      "          [-0.2488, -0.2410,  0.2490,  0.2784,  0.3098,  0.3647],\n",
      "          ...,\n",
      "          [ 0.2132,  0.2065,  0.2168,  0.2784,  0.3098,  0.3647],\n",
      "          [ 0.2132,  0.2099,  0.2168,  0.2784,  0.3098,  0.3647],\n",
      "          [ 0.2132,  0.2132,  0.2168,  0.2784,  0.3098,  0.3647]]],\n",
      "\n",
      "\n",
      "        [[[-0.0000, -0.0000,  0.0000,  0.0000,  0.0000,  0.0000],\n",
      "          [-0.0000, -0.0000,  0.0000,  0.0000,  0.0000,  0.0000],\n",
      "          [-0.0000, -0.0000,  0.0000,  0.0000,  0.0000,  0.0000],\n",
      "          ...,\n",
      "          [ 0.1556,  0.1507,  0.1582,  0.2784,  0.3098,  0.3608],\n",
      "          [ 0.1556,  0.1531,  0.1582,  0.2784,  0.3098,  0.3608],\n",
      "          [ 0.1556,  0.1556,  0.1582,  0.2784,  0.3098,  0.3608]],\n",
      "\n",
      "         [[-0.2488, -0.2488,  0.2490,  0.2784,  0.3098,  0.3647],\n",
      "          [-0.2488, -0.2449,  0.2490,  0.2784,  0.3098,  0.3647],\n",
      "          [-0.2488, -0.2410,  0.2490,  0.2784,  0.3098,  0.3647],\n",
      "          ...,\n",
      "          [ 0.2132,  0.2065,  0.2168,  0.2784,  0.3098,  0.3647],\n",
      "          [ 0.2132,  0.2099,  0.2168,  0.2784,  0.3098,  0.3647],\n",
      "          [ 0.2132,  0.2132,  0.2168,  0.2784,  0.3098,  0.3647]]],\n",
      "\n",
      "\n",
      "        [[[-0.0000, -0.0000,  0.0000,  0.0000,  0.0000,  0.0000],\n",
      "          [-0.0000, -0.0000,  0.0000,  0.0000,  0.0000,  0.0000],\n",
      "          [-0.0000, -0.0000,  0.0000,  0.0000,  0.0000,  0.0000],\n",
      "          ...,\n",
      "          [ 0.1556,  0.1507,  0.1582,  0.2784,  0.3098,  0.3608],\n",
      "          [ 0.1556,  0.1531,  0.1582,  0.2784,  0.3098,  0.3608],\n",
      "          [ 0.1556,  0.1556,  0.1582,  0.2784,  0.3098,  0.3608]],\n",
      "\n",
      "         [[-0.2488, -0.2488,  0.2490,  0.2784,  0.3098,  0.3647],\n",
      "          [-0.2488, -0.2449,  0.2490,  0.2784,  0.3098,  0.3647],\n",
      "          [-0.2488, -0.2410,  0.2490,  0.2784,  0.3098,  0.3647],\n",
      "          ...,\n",
      "          [ 0.2132,  0.2065,  0.2168,  0.2784,  0.3098,  0.3647],\n",
      "          [ 0.2132,  0.2099,  0.2168,  0.2784,  0.3098,  0.3647],\n",
      "          [ 0.2132,  0.2132,  0.2168,  0.2784,  0.3098,  0.3647]]],\n",
      "\n",
      "\n",
      "        ...,\n",
      "\n",
      "\n",
      "        [[[ 0.0000,  0.0000,  0.0000,  0.0000,  0.0000,  0.0000],\n",
      "          [ 0.0000,  0.0000,  0.0000,  0.0000,  0.0000,  0.0000],\n",
      "          [ 0.0000,  0.0000,  0.0000,  0.0000,  0.0000,  0.0000],\n",
      "          ...,\n",
      "          [ 0.0000,  0.0000,  0.0000,  0.0000,  0.0000,  0.0000],\n",
      "          [ 0.0000,  0.0000,  0.0000,  0.0000,  0.0000,  0.0000],\n",
      "          [ 0.0000,  0.0000,  0.0000,  0.0000,  0.0000,  0.0000]],\n",
      "\n",
      "         [[ 0.0000,  0.0000,  0.0000,  0.0000,  0.0000,  0.0000],\n",
      "          [ 0.0000,  0.0000,  0.0000,  0.0000,  0.0000,  0.0000],\n",
      "          [ 0.0000,  0.0000,  0.0000,  0.0000,  0.0000,  0.0000],\n",
      "          ...,\n",
      "          [ 0.0000,  0.0000,  0.0000,  0.0000,  0.0000,  0.0000],\n",
      "          [ 0.0000,  0.0000,  0.0000,  0.0000,  0.0000,  0.0000],\n",
      "          [ 0.0000,  0.0000,  0.0000,  0.0000,  0.0000,  0.0000]]],\n",
      "\n",
      "\n",
      "        [[[ 0.0000,  0.0000,  0.0000,  0.0000,  0.0000,  0.0000],\n",
      "          [ 0.0000,  0.0000,  0.0000,  0.0000,  0.0000,  0.0000],\n",
      "          [ 0.0000,  0.0000,  0.0000,  0.0000,  0.0000,  0.0000],\n",
      "          ...,\n",
      "          [ 0.0000,  0.0000,  0.0000,  0.0000,  0.0000,  0.0000],\n",
      "          [ 0.0000,  0.0000,  0.0000,  0.0000,  0.0000,  0.0000],\n",
      "          [ 0.0000,  0.0000,  0.0000,  0.0000,  0.0000,  0.0000]],\n",
      "\n",
      "         [[ 0.0000,  0.0000,  0.0000,  0.0000,  0.0000,  0.0000],\n",
      "          [ 0.0000,  0.0000,  0.0000,  0.0000,  0.0000,  0.0000],\n",
      "          [ 0.0000,  0.0000,  0.0000,  0.0000,  0.0000,  0.0000],\n",
      "          ...,\n",
      "          [ 0.0000,  0.0000,  0.0000,  0.0000,  0.0000,  0.0000],\n",
      "          [ 0.0000,  0.0000,  0.0000,  0.0000,  0.0000,  0.0000],\n",
      "          [ 0.0000,  0.0000,  0.0000,  0.0000,  0.0000,  0.0000]]],\n",
      "\n",
      "\n",
      "        [[[ 0.0000,  0.0000,  0.0000,  0.0000,  0.0000,  0.0000],\n",
      "          [ 0.0000,  0.0000,  0.0000,  0.0000,  0.0000,  0.0000],\n",
      "          [ 0.0000,  0.0000,  0.0000,  0.0000,  0.0000,  0.0000],\n",
      "          ...,\n",
      "          [ 0.0000,  0.0000,  0.0000,  0.0000,  0.0000,  0.0000],\n",
      "          [ 0.0000,  0.0000,  0.0000,  0.0000,  0.0000,  0.0000],\n",
      "          [ 0.0000,  0.0000,  0.0000,  0.0000,  0.0000,  0.0000]],\n",
      "\n",
      "         [[ 0.0000,  0.0000,  0.0000,  0.0000,  0.0000,  0.0000],\n",
      "          [ 0.0000,  0.0000,  0.0000,  0.0000,  0.0000,  0.0000],\n",
      "          [ 0.0000,  0.0000,  0.0000,  0.0000,  0.0000,  0.0000],\n",
      "          ...,\n",
      "          [ 0.0000,  0.0000,  0.0000,  0.0000,  0.0000,  0.0000],\n",
      "          [ 0.0000,  0.0000,  0.0000,  0.0000,  0.0000,  0.0000],\n",
      "          [ 0.0000,  0.0000,  0.0000,  0.0000,  0.0000,  0.0000]]]]), 'seq_pad_mask': tensor([False, False, False, False, False, False, False, False, False, False,\n",
      "        False, False, False, False, False, False, False, False, False, False,\n",
      "        False, False, False, False, False, False, False, False, False, False,\n",
      "        False, False, False, False, False, False, False, False, False, False,\n",
      "        False, False, False, False, False, False, False, False, False, False,\n",
      "        False, False, False, False, False, False, False, False, False, False,\n",
      "        False, False, False, False, False, False, False, False, False, False,\n",
      "        False, False, False, False, False, False, False, False, False, False,\n",
      "        False, False, False, False, False, False, False, False, False, False,\n",
      "        False, False, False, False, False, False, False, False, False, False,\n",
      "        False, False, False, False, False, False, False, False, False, False,\n",
      "        False, False, False, False, False, False, False, False, False, False,\n",
      "        False, False, False, False, False, False, False, False, False, False,\n",
      "        False, False, False, False, False, False, False, False, False, False,\n",
      "        False, False, False, False, False, False, False, False, False, False,\n",
      "        False, False,  True,  True,  True,  True,  True,  True,  True,  True,\n",
      "         True,  True,  True,  True,  True,  True,  True,  True,  True,  True,\n",
      "         True,  True,  True,  True,  True,  True,  True,  True,  True,  True,\n",
      "         True,  True,  True,  True,  True,  True,  True,  True,  True,  True,\n",
      "         True,  True,  True,  True,  True,  True,  True,  True]), 'seq_mask': tensor([[False, False, False,  ..., False, False, False],\n",
      "        [False, False, False,  ..., False, False, False],\n",
      "        [False, False, False,  ..., False, False, False],\n",
      "        ...,\n",
      "        [False, False, False,  ..., False, False, False],\n",
      "        [False, False, False,  ..., False, False, False],\n",
      "        [False, False, False,  ..., False, False, False]])}\n"
     ]
    }
   ],
   "source": [
    "print(test_loader.dataset[0])"
   ]
  }
 ],
 "metadata": {
  "kernelspec": {
   "display_name": "venv",
   "language": "python",
   "name": "python3"
  },
  "language_info": {
   "codemirror_mode": {
    "name": "ipython",
    "version": 3
   },
   "file_extension": ".py",
   "mimetype": "text/x-python",
   "name": "python",
   "nbconvert_exporter": "python",
   "pygments_lexer": "ipython3",
   "version": "3.10.14"
  }
 },
 "nbformat": 4,
 "nbformat_minor": 2
}
