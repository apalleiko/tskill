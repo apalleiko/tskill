{
 "cells": [
  {
   "cell_type": "code",
   "execution_count": 1,
   "metadata": {},
   "outputs": [
    {
     "name": "stderr",
     "output_type": "stream",
     "text": [
      "/home/mrl/miniconda3/envs/tskill/lib/python3.10/site-packages/tqdm/auto.py:21: TqdmWarning: IProgress not found. Please update jupyter and ipywidgets. See https://ipywidgets.readthedocs.io/en/stable/user_install.html\n",
      "  from .autonotebook import tqdm as notebook_tqdm\n"
     ]
    },
    {
     "name": "stdout",
     "output_type": "stream",
     "text": [
      "Found existing data info file\n",
      "Loading indices from file: out/Plan/002/data_info.pickle\n",
      "Overriding full seq config!\n",
      "Loading action and state scaling from file\n",
      "Shuffling: True\n"
     ]
    }
   ],
   "source": [
    "import os\n",
    "import dill as pickle\n",
    "\n",
    "import numpy as np\n",
    "import torch\n",
    "from tqdm.auto import tqdm\n",
    "import matplotlib.pyplot as plt\n",
    "import seaborn as sns\n",
    "\n",
    "from policy import config\n",
    "from policy.dataset.dataset_loaders import dataset_loader\n",
    "from policy.checkpoints import CheckpointIO\n",
    "\n",
    "model_dir = \"/home/mrl/Documents/Projects/tskill/out/Plan/002\"\n",
    "\n",
    "cfg_path = os.path.join(model_dir, \"config.yaml\")\n",
    "cfg = config.load_config(cfg_path, None)\n",
    "method = cfg[\"method\"]\n",
    "if method == \"plan\":\n",
    "        cfg[\"vae_cfg\"] = config.load_config(os.path.join(cfg[\"model\"][\"vae_path\"],\"config.yaml\"))\n",
    "\n",
    "# index_path = os.path.join(model_dir, \"data_info.pickle\")\n",
    "# with open(index_path, 'rb') as f:\n",
    "#     data_info = pickle.load(f)\n",
    "\n",
    "# Dataset\n",
    "cfg[\"data\"][\"pad\"] = True\n",
    "cfg[\"data\"][\"augment\"] = True\n",
    "cfg[\"data\"][\"augmentation\"][\"subsequence_rate\"] = .85\n",
    "cfg[\"data\"][\"full_seq\"] = False\n",
    "cfg[\"training\"][\"batch_size\"] = 1\n",
    "cfg[\"training\"][\"use_precalc\"] = False\n",
    "# cfg[\"model\"][\"autoregressive_decode\"] = True\n",
    "\n",
    "train_dataset, val_dataset = dataset_loader(cfg,\n",
    "                                            save_override=True,\n",
    "                                            fullseq_override=True)"
   ]
  },
  {
   "cell_type": "code",
   "execution_count": 2,
   "metadata": {},
   "outputs": [
    {
     "data": {
      "text/plain": [
       "1"
      ]
     },
     "metadata": {},
     "output_type": "display_data"
    },
    {
     "ename": "KeyError",
     "evalue": "'rgb'",
     "output_type": "error",
     "traceback": [
      "\u001b[0;31m---------------------------------------------------------------------------\u001b[0m",
      "\u001b[0;31mKeyError\u001b[0m                                  Traceback (most recent call last)",
      "Cell \u001b[0;32mIn[2], line 8\u001b[0m\n\u001b[1;32m      6\u001b[0m i \u001b[38;5;241m+\u001b[39m\u001b[38;5;241m=\u001b[39m \u001b[38;5;241m1\u001b[39m\n\u001b[1;32m      7\u001b[0m display(i)\n\u001b[0;32m----> 8\u001b[0m ax1\u001b[38;5;241m.\u001b[39mimshow(\u001b[43mdata\u001b[49m\u001b[43m[\u001b[49m\u001b[38;5;124;43m\"\u001b[39;49m\u001b[38;5;124;43mrgb\u001b[39;49m\u001b[38;5;124;43m\"\u001b[39;49m\u001b[43m]\u001b[49m[\u001b[38;5;241m0\u001b[39m,\u001b[38;5;241m0\u001b[39m,\u001b[38;5;241m0\u001b[39m,\u001b[38;5;241m.\u001b[39m\u001b[38;5;241m.\u001b[39m\u001b[38;5;241m.\u001b[39m]\u001b[38;5;241m.\u001b[39mpermute(\u001b[38;5;241m1\u001b[39m,\u001b[38;5;241m2\u001b[39m,\u001b[38;5;241m0\u001b[39m))\n\u001b[1;32m      9\u001b[0m ax2\u001b[38;5;241m.\u001b[39mimshow(data[\u001b[38;5;124m\"\u001b[39m\u001b[38;5;124mgoal\u001b[39m\u001b[38;5;124m\"\u001b[39m][\u001b[38;5;241m0\u001b[39m,\u001b[38;5;241m0\u001b[39m,\u001b[38;5;241m0\u001b[39m,\u001b[38;5;241m.\u001b[39m\u001b[38;5;241m.\u001b[39m\u001b[38;5;241m.\u001b[39m]\u001b[38;5;241m.\u001b[39mpermute(\u001b[38;5;241m1\u001b[39m,\u001b[38;5;241m2\u001b[39m,\u001b[38;5;241m0\u001b[39m))\n\u001b[1;32m     10\u001b[0m display(fig)\n",
      "\u001b[0;31mKeyError\u001b[0m: 'rgb'"
     ]
    },
    {
     "data": {
      "image/png": "[encoded data removed]",
      "text/plain": [
       "<Figure size 1000x1000 with 2 Axes>"
      ]
     },
     "metadata": {},
     "output_type": "display_data"
    }
   ],
   "source": [
    "from IPython.display import display, clear_output\n",
    "fig = plt.figure(1, figsize=(10,10))\n",
    "ax1,ax2 = fig.subplots(1,2)\n",
    "i = 0\n",
    "for data in train_dataset:\n",
    "    i += 1\n",
    "    display(i)\n",
    "    ax1.imshow(data[\"rgb\"][0,0,0,...].permute(1,2,0))\n",
    "    ax2.imshow(data[\"goal\"][0,0,0,...].permute(1,2,0))\n",
    "    display(fig)\n",
    "    clear_output(wait = True)\n",
    "    plt.pause(0.1)"
   ]
  },
  {
   "cell_type": "code",
   "execution_count": 4,
   "metadata": {},
   "outputs": [
    {
     "data": {
      "text/plain": [
       "<matplotlib.image.AxesImage at 0x700fbdf99300>"
      ]
     },
     "execution_count": 4,
     "metadata": {},
     "output_type": "execute_result"
    },
    {
     "data": {
      "image/png": "[encoded data removed]",
      "text/plain": [
       "<Figure size 5000x5000 with 1 Axes>"
      ]
     },
     "metadata": {},
     "output_type": "display_data"
    }
   ],
   "source": [
    "from policy.dataset.masking_utils import get_dec_ar_masks, get_plan_ar_masks, get_enc_causal_masks\n",
    "\n",
    "torch.set_printoptions(threshold=10000)\n",
    "from matplotlib.ticker import MultipleLocator, AutoMinorLocator\n",
    "plt.close()\n",
    "i = 1\n",
    "\n",
    "plan_src_mask, plan_mem_mask, plan_tgt_mask = get_plan_ar_masks(16*2, 20, \"image\")\n",
    "dec_src_mask, dec_mem_mask, dec_tgt_mask = get_dec_ar_masks(16*2, 10)\n",
    "enc_src_mask, enc_mem_mask, enc_tgt_mask = get_enc_causal_masks(200, 20, 10)\n",
    "\n",
    "mask = plan_mem_mask\n",
    "\n",
    "fig = plt.figure(1, figsize=(50,50))\n",
    "ax1 = fig.subplots(1,1)\n",
    "# ax1.xaxis.set_major_locator(MultipleLocator(10))\n",
    "# ax1.xaxis.set_minor_locator(MultipleLocator(1))\n",
    "# ax1.yaxis.set_major_locator(MultipleLocator(10))\n",
    "# ax1.yaxis.set_minor_locator(MultipleLocator(1))\n",
    "\n",
    "ax1.imshow(mask.squeeze(0).to(torch.int), cmap=\"plasma\")\n",
    "\n",
    "# path = \"/home/mrl/Documents/Projects/tskill/ERROR_DATA.pickle\"\n",
    "# with open(path, \"rb\") as f:\n",
    "#     data = pickle.load(f)\n",
    "\n",
    "# Images\n",
    "# print(data[\"rgb\"].shape)\n",
    "# n = data[\"rgb\"].shape[0]\n",
    "# n_cams = data[\"rgb\"].shape[1]\n",
    "# for im in range(50):\n",
    "#     fig = plt.figure(im)\n",
    "#     axes = fig.subplots(1,n_cams)\n",
    "#     for c in range(n_cams):\n",
    "#         axes[c].imshow(data[\"rgb\"][im,c,...].permute(1,2,0))\n",
    "    # ax3.imshow(data[\"enc_mask\"].to(torch.int))\n",
    "    # ax4.imshow(data[\"dec_mask\"].to(torch.int))\n",
    "\n",
    "# Masks\n",
    "# bs = data[\"actions\"].shape[0]\n",
    "# enc_mask = data[\"enc_mask\"][0,...]\n",
    "# for b in range(bs):\n",
    "#     fig = plt.figure(b, figsize=(20,10))\n",
    "#     ax1, ax2, ax3= fig.subplots(1,3)\n",
    "#     seq_pad_mask = data[\"seq_pad_mask\"][b,...]\n",
    "#     seq_pad_mask = seq_pad_mask.unsqueeze(0).repeat(4*seq_pad_mask.shape[0], 4)\n",
    "#     print(torch.logical_not((seq_pad_mask[0,...] | data[\"enc_mask\"][b,0,...])).to(torch.int).sum())\n",
    "#     ax1.imshow(data[\"enc_mask\"][b,...].to(torch.int))\n",
    "#     ax2.imshow(seq_pad_mask.to(torch.int))\n",
    "#     ax3.imshow((data[\"enc_mask\"][b,...] | seq_pad_mask).to(torch.int))\n",
    "\n",
    "# data[\"enc_mask\"][3,...] = torch.zeros_like(data[\"enc_mask\"][3,...])\n"
   ]
  },
  {
   "cell_type": "code",
   "execution_count": 3,
   "metadata": {},
   "outputs": [
    {
     "name": "stderr",
     "output_type": "stream",
     "text": [
      "/home/mrl/anaconda3/envs/tskill/lib/python3.11/site-packages/torch/nn/modules/transformer.py:286: UserWarning: enable_nested_tensor is True, but self.use_nested_tensor is False because encoder_layer.self_attn.batch_first was not True(use batch_first for better inference performance)\n",
      "  warnings.warn(f\"enable_nested_tensor is True, but self.use_nested_tensor is False because {why_not_sparsity_fast_path}\")\n",
      "/home/mrl/anaconda3/envs/tskill/lib/python3.11/site-packages/torchvision/models/_utils.py:208: UserWarning: The parameter 'pretrained' is deprecated since 0.13 and may be removed in the future, please use 'weights' instead.\n",
      "  warnings.warn(\n",
      "/home/mrl/anaconda3/envs/tskill/lib/python3.11/site-packages/torchvision/models/_utils.py:223: UserWarning: Arguments other than a weight enum or `None` for 'weights' are deprecated since 0.13 and may be removed in the future. The current behavior is equivalent to passing `weights=ResNet18_Weights.IMAGENET1K_V1`. You can also use `weights=ResNet18_Weights.DEFAULT` to get the most up-to-date weights.\n",
      "  warnings.warn(msg)\n"
     ]
    },
    {
     "name": "stdout",
     "output_type": "stream",
     "text": [
      "freezing state encoder network!\n",
      "/home/mrl/Documents/Projects/tskill/out/PegInsertion/VAE/059/model_best.pt\n",
      "=> Loading checkpoint from local file...\n",
      "load state dict: <All keys matched successfully>\n",
      "Freezing state encoder network!\n",
      "/home/mrl/Documents/Projects/tskill/out/PegInsertion/Plan/027/model_best.pt\n",
      "=> Loading checkpoint from local file...\n",
      "load state dict: <All keys matched successfully>\n"
     ]
    },
    {
     "ename": "KeyError",
     "evalue": "'rgb'",
     "output_type": "error",
     "traceback": [
      "\u001b[0;31m---------------------------------------------------------------------------\u001b[0m",
      "\u001b[0;31mKeyError\u001b[0m                                  Traceback (most recent call last)",
      "Cell \u001b[0;32mIn[3], line 6\u001b[0m\n\u001b[1;32m      4\u001b[0m load_dict \u001b[38;5;241m=\u001b[39m checkpoint_io\u001b[38;5;241m.\u001b[39mload(\u001b[38;5;124m\"\u001b[39m\u001b[38;5;124mmodel_best.pt\u001b[39m\u001b[38;5;124m\"\u001b[39m)\n\u001b[1;32m      5\u001b[0m model\u001b[38;5;241m.\u001b[39mtrain()\n\u001b[0;32m----> 6\u001b[0m out \u001b[38;5;241m=\u001b[39m \u001b[43mmodel\u001b[49m\u001b[43m(\u001b[49m\u001b[43mdata\u001b[49m\u001b[43m)\u001b[49m\n",
      "File \u001b[0;32m~/anaconda3/envs/tskill/lib/python3.11/site-packages/torch/nn/modules/module.py:1511\u001b[0m, in \u001b[0;36mModule._wrapped_call_impl\u001b[0;34m(self, *args, **kwargs)\u001b[0m\n\u001b[1;32m   1509\u001b[0m     \u001b[38;5;28;01mreturn\u001b[39;00m \u001b[38;5;28mself\u001b[39m\u001b[38;5;241m.\u001b[39m_compiled_call_impl(\u001b[38;5;241m*\u001b[39margs, \u001b[38;5;241m*\u001b[39m\u001b[38;5;241m*\u001b[39mkwargs)  \u001b[38;5;66;03m# type: ignore[misc]\u001b[39;00m\n\u001b[1;32m   1510\u001b[0m \u001b[38;5;28;01melse\u001b[39;00m:\n\u001b[0;32m-> 1511\u001b[0m     \u001b[38;5;28;01mreturn\u001b[39;00m \u001b[38;5;28;43mself\u001b[39;49m\u001b[38;5;241;43m.\u001b[39;49m\u001b[43m_call_impl\u001b[49m\u001b[43m(\u001b[49m\u001b[38;5;241;43m*\u001b[39;49m\u001b[43margs\u001b[49m\u001b[43m,\u001b[49m\u001b[43m \u001b[49m\u001b[38;5;241;43m*\u001b[39;49m\u001b[38;5;241;43m*\u001b[39;49m\u001b[43mkwargs\u001b[49m\u001b[43m)\u001b[49m\n",
      "File \u001b[0;32m~/anaconda3/envs/tskill/lib/python3.11/site-packages/torch/nn/modules/module.py:1520\u001b[0m, in \u001b[0;36mModule._call_impl\u001b[0;34m(self, *args, **kwargs)\u001b[0m\n\u001b[1;32m   1515\u001b[0m \u001b[38;5;66;03m# If we don't have any hooks, we want to skip the rest of the logic in\u001b[39;00m\n\u001b[1;32m   1516\u001b[0m \u001b[38;5;66;03m# this function, and just call forward.\u001b[39;00m\n\u001b[1;32m   1517\u001b[0m \u001b[38;5;28;01mif\u001b[39;00m \u001b[38;5;129;01mnot\u001b[39;00m (\u001b[38;5;28mself\u001b[39m\u001b[38;5;241m.\u001b[39m_backward_hooks \u001b[38;5;129;01mor\u001b[39;00m \u001b[38;5;28mself\u001b[39m\u001b[38;5;241m.\u001b[39m_backward_pre_hooks \u001b[38;5;129;01mor\u001b[39;00m \u001b[38;5;28mself\u001b[39m\u001b[38;5;241m.\u001b[39m_forward_hooks \u001b[38;5;129;01mor\u001b[39;00m \u001b[38;5;28mself\u001b[39m\u001b[38;5;241m.\u001b[39m_forward_pre_hooks\n\u001b[1;32m   1518\u001b[0m         \u001b[38;5;129;01mor\u001b[39;00m _global_backward_pre_hooks \u001b[38;5;129;01mor\u001b[39;00m _global_backward_hooks\n\u001b[1;32m   1519\u001b[0m         \u001b[38;5;129;01mor\u001b[39;00m _global_forward_hooks \u001b[38;5;129;01mor\u001b[39;00m _global_forward_pre_hooks):\n\u001b[0;32m-> 1520\u001b[0m     \u001b[38;5;28;01mreturn\u001b[39;00m \u001b[43mforward_call\u001b[49m\u001b[43m(\u001b[49m\u001b[38;5;241;43m*\u001b[39;49m\u001b[43margs\u001b[49m\u001b[43m,\u001b[49m\u001b[43m \u001b[49m\u001b[38;5;241;43m*\u001b[39;49m\u001b[38;5;241;43m*\u001b[39;49m\u001b[43mkwargs\u001b[49m\u001b[43m)\u001b[49m\n\u001b[1;32m   1522\u001b[0m \u001b[38;5;28;01mtry\u001b[39;00m:\n\u001b[1;32m   1523\u001b[0m     result \u001b[38;5;241m=\u001b[39m \u001b[38;5;28;01mNone\u001b[39;00m\n",
      "File \u001b[0;32m~/Documents/Projects/tskill/policy/planning/skill_plan.py:117\u001b[0m, in \u001b[0;36mTSkillPlan.forward\u001b[0;34m(self, data, **kwargs)\u001b[0m\n\u001b[1;32m    115\u001b[0m     img_pe \u001b[38;5;241m=\u001b[39m data[\u001b[38;5;124m\"\u001b[39m\u001b[38;5;124mimg_pe\u001b[39m\u001b[38;5;124m\"\u001b[39m]\u001b[38;5;241m.\u001b[39mtranspose(\u001b[38;5;241m0\u001b[39m,\u001b[38;5;241m1\u001b[39m)\u001b[38;5;241m.\u001b[39mto(\u001b[38;5;28mself\u001b[39m\u001b[38;5;241m.\u001b[39m_device)\n\u001b[1;32m    116\u001b[0m \u001b[38;5;28;01melse\u001b[39;00m:\n\u001b[0;32m--> 117\u001b[0m     images \u001b[38;5;241m=\u001b[39m \u001b[43mdata\u001b[49m\u001b[43m[\u001b[49m\u001b[38;5;124;43m\"\u001b[39;49m\u001b[38;5;124;43mrgb\u001b[39;49m\u001b[38;5;124;43m\"\u001b[39;49m\u001b[43m]\u001b[49m\u001b[38;5;241m.\u001b[39mto(\u001b[38;5;28mself\u001b[39m\u001b[38;5;241m.\u001b[39m_device)\n\u001b[1;32m    118\u001b[0m     img_src, img_pe \u001b[38;5;241m=\u001b[39m \u001b[38;5;28mself\u001b[39m\u001b[38;5;241m.\u001b[39mstt_encoder(images) \u001b[38;5;66;03m# (seq, bs, num_cam, h*w, c)\u001b[39;00m\n\u001b[1;32m    120\u001b[0m \u001b[38;5;66;03m### Goal image or features\u001b[39;00m\n",
      "\u001b[0;31mKeyError\u001b[0m: 'rgb'"
     ]
    }
   ],
   "source": [
    "# Model\n",
    "model = config.get_model(cfg, device=\"cpu\")\n",
    "checkpoint_io = CheckpointIO(model_dir, model=model)\n",
    "load_dict = checkpoint_io.load(\"model_best.pt\")\n",
    "model.train()\n",
    "out = model(data)"
   ]
  }
 ],
 "metadata": {
  "kernelspec": {
   "display_name": "tskill",
   "language": "python",
   "name": "python3"
  },
  "language_info": {
   "codemirror_mode": {
    "name": "ipython",
    "version": 3
   },
   "file_extension": ".py",
   "mimetype": "text/x-python",
   "name": "python",
   "nbconvert_exporter": "python",
   "pygments_lexer": "ipython3",
   "version": "3.10.15"
  }
 },
 "nbformat": 4,
 "nbformat_minor": 2
}
